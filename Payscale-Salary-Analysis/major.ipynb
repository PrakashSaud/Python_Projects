{
 "cells": [
  {
   "cell_type": "markdown",
   "id": "fa9049a5-a79b-4d91-8899-5eeb07363bac",
   "metadata": {},
   "source": [
    "Import Libraries & Load Data"
   ]
  },
  {
   "cell_type": "code",
   "execution_count": 3,
   "id": "632c3450-3bfb-40aa-857d-acdda0f488a2",
   "metadata": {},
   "outputs": [
    {
     "data": {
      "text/html": [
       "<div>\n",
       "<style scoped>\n",
       "    .dataframe tbody tr th:only-of-type {\n",
       "        vertical-align: middle;\n",
       "    }\n",
       "\n",
       "    .dataframe tbody tr th {\n",
       "        vertical-align: top;\n",
       "    }\n",
       "\n",
       "    .dataframe thead th {\n",
       "        text-align: right;\n",
       "    }\n",
       "</style>\n",
       "<table border=\"1\" class=\"dataframe\">\n",
       "  <thead>\n",
       "    <tr style=\"text-align: right;\">\n",
       "      <th></th>\n",
       "      <th>Undergraduate Major</th>\n",
       "      <th>Starting Median Salary</th>\n",
       "      <th>Mid-Career Median Salary</th>\n",
       "      <th>Mid-Career 10th Percentile Salary</th>\n",
       "      <th>Mid-Career 90th Percentile Salary</th>\n",
       "      <th>Group</th>\n",
       "    </tr>\n",
       "  </thead>\n",
       "  <tbody>\n",
       "    <tr>\n",
       "      <th>0</th>\n",
       "      <td>Accounting</td>\n",
       "      <td>46000.0</td>\n",
       "      <td>77100.0</td>\n",
       "      <td>42200.0</td>\n",
       "      <td>152000.0</td>\n",
       "      <td>Business</td>\n",
       "    </tr>\n",
       "    <tr>\n",
       "      <th>1</th>\n",
       "      <td>Aerospace Engineering</td>\n",
       "      <td>57700.0</td>\n",
       "      <td>101000.0</td>\n",
       "      <td>64300.0</td>\n",
       "      <td>161000.0</td>\n",
       "      <td>STEM</td>\n",
       "    </tr>\n",
       "    <tr>\n",
       "      <th>2</th>\n",
       "      <td>Agriculture</td>\n",
       "      <td>42600.0</td>\n",
       "      <td>71900.0</td>\n",
       "      <td>36300.0</td>\n",
       "      <td>150000.0</td>\n",
       "      <td>Business</td>\n",
       "    </tr>\n",
       "    <tr>\n",
       "      <th>3</th>\n",
       "      <td>Anthropology</td>\n",
       "      <td>36800.0</td>\n",
       "      <td>61500.0</td>\n",
       "      <td>33800.0</td>\n",
       "      <td>138000.0</td>\n",
       "      <td>HASS</td>\n",
       "    </tr>\n",
       "    <tr>\n",
       "      <th>4</th>\n",
       "      <td>Architecture</td>\n",
       "      <td>41600.0</td>\n",
       "      <td>76800.0</td>\n",
       "      <td>50600.0</td>\n",
       "      <td>136000.0</td>\n",
       "      <td>Business</td>\n",
       "    </tr>\n",
       "  </tbody>\n",
       "</table>\n",
       "</div>"
      ],
      "text/plain": [
       "     Undergraduate Major  Starting Median Salary  Mid-Career Median Salary  \\\n",
       "0             Accounting                 46000.0                   77100.0   \n",
       "1  Aerospace Engineering                 57700.0                  101000.0   \n",
       "2            Agriculture                 42600.0                   71900.0   \n",
       "3           Anthropology                 36800.0                   61500.0   \n",
       "4           Architecture                 41600.0                   76800.0   \n",
       "\n",
       "   Mid-Career 10th Percentile Salary  Mid-Career 90th Percentile Salary  \\\n",
       "0                            42200.0                           152000.0   \n",
       "1                            64300.0                           161000.0   \n",
       "2                            36300.0                           150000.0   \n",
       "3                            33800.0                           138000.0   \n",
       "4                            50600.0                           136000.0   \n",
       "\n",
       "      Group  \n",
       "0  Business  \n",
       "1      STEM  \n",
       "2  Business  \n",
       "3      HASS  \n",
       "4  Business  "
      ]
     },
     "execution_count": 3,
     "metadata": {},
     "output_type": "execute_result"
    }
   ],
   "source": [
    "# Import pandas library for data analysis\n",
    "import pandas as pd\n",
    "\n",
    "# Load the dataset into a pandas DataFrame\n",
    "# Replace 'salaries_by_college_major.csv' with your actual file path if needed\n",
    "df = pd.read_csv(\"salaries_by_college_major.csv\")\n",
    "\n",
    "# Show the first 5 rows of the dataset to preview its structure\n",
    "df.head()"
   ]
  },
  {
   "cell_type": "code",
   "execution_count": 4,
   "id": "eb59a882-cb06-4d0a-8f33-af758384c194",
   "metadata": {},
   "outputs": [
    {
     "data": {
      "text/plain": [
       "(51, 6)"
      ]
     },
     "execution_count": 4,
     "metadata": {},
     "output_type": "execute_result"
    }
   ],
   "source": [
    "# The shape attribute tells us the number of rows and columns in the dataframe\n",
    "df.shape"
   ]
  },
  {
   "cell_type": "code",
   "execution_count": 5,
   "id": "d64c469f-251c-4dc7-a3ae-00ec2f5f198f",
   "metadata": {},
   "outputs": [
    {
     "data": {
      "text/plain": [
       "Index(['Undergraduate Major', 'Starting Median Salary',\n",
       "       'Mid-Career Median Salary', 'Mid-Career 10th Percentile Salary',\n",
       "       'Mid-Career 90th Percentile Salary', 'Group'],\n",
       "      dtype='object')"
      ]
     },
     "execution_count": 5,
     "metadata": {},
     "output_type": "execute_result"
    }
   ],
   "source": [
    "# The columns attribute gives us the labels of all columns in the dataframe\n",
    "df.columns"
   ]
  },
  {
   "cell_type": "code",
   "execution_count": 9,
   "id": "0bace3f8-04cf-4b7c-8535-d6acf5fb9e00",
   "metadata": {},
   "outputs": [
    {
     "data": {
      "text/html": [
       "<div>\n",
       "<style scoped>\n",
       "    .dataframe tbody tr th:only-of-type {\n",
       "        vertical-align: middle;\n",
       "    }\n",
       "\n",
       "    .dataframe tbody tr th {\n",
       "        vertical-align: top;\n",
       "    }\n",
       "\n",
       "    .dataframe thead th {\n",
       "        text-align: right;\n",
       "    }\n",
       "</style>\n",
       "<table border=\"1\" class=\"dataframe\">\n",
       "  <thead>\n",
       "    <tr style=\"text-align: right;\">\n",
       "      <th></th>\n",
       "      <th>Undergraduate Major</th>\n",
       "      <th>Starting Median Salary</th>\n",
       "      <th>Mid-Career Median Salary</th>\n",
       "      <th>Mid-Career 10th Percentile Salary</th>\n",
       "      <th>Mid-Career 90th Percentile Salary</th>\n",
       "      <th>Group</th>\n",
       "    </tr>\n",
       "  </thead>\n",
       "  <tbody>\n",
       "    <tr>\n",
       "      <th>46</th>\n",
       "      <td>Psychology</td>\n",
       "      <td>35900.0</td>\n",
       "      <td>60400.0</td>\n",
       "      <td>31600.0</td>\n",
       "      <td>127000.0</td>\n",
       "      <td>HASS</td>\n",
       "    </tr>\n",
       "    <tr>\n",
       "      <th>47</th>\n",
       "      <td>Religion</td>\n",
       "      <td>34100.0</td>\n",
       "      <td>52000.0</td>\n",
       "      <td>29700.0</td>\n",
       "      <td>96400.0</td>\n",
       "      <td>HASS</td>\n",
       "    </tr>\n",
       "    <tr>\n",
       "      <th>48</th>\n",
       "      <td>Sociology</td>\n",
       "      <td>36500.0</td>\n",
       "      <td>58200.0</td>\n",
       "      <td>30700.0</td>\n",
       "      <td>118000.0</td>\n",
       "      <td>HASS</td>\n",
       "    </tr>\n",
       "    <tr>\n",
       "      <th>49</th>\n",
       "      <td>Spanish</td>\n",
       "      <td>34000.0</td>\n",
       "      <td>53100.0</td>\n",
       "      <td>31000.0</td>\n",
       "      <td>96400.0</td>\n",
       "      <td>HASS</td>\n",
       "    </tr>\n",
       "    <tr>\n",
       "      <th>50</th>\n",
       "      <td>Source: PayScale Inc.</td>\n",
       "      <td>NaN</td>\n",
       "      <td>NaN</td>\n",
       "      <td>NaN</td>\n",
       "      <td>NaN</td>\n",
       "      <td>NaN</td>\n",
       "    </tr>\n",
       "  </tbody>\n",
       "</table>\n",
       "</div>"
      ],
      "text/plain": [
       "      Undergraduate Major  Starting Median Salary  Mid-Career Median Salary  \\\n",
       "46             Psychology                 35900.0                   60400.0   \n",
       "47               Religion                 34100.0                   52000.0   \n",
       "48              Sociology                 36500.0                   58200.0   \n",
       "49                Spanish                 34000.0                   53100.0   \n",
       "50  Source: PayScale Inc.                     NaN                       NaN   \n",
       "\n",
       "    Mid-Career 10th Percentile Salary  Mid-Career 90th Percentile Salary Group  \n",
       "46                            31600.0                           127000.0  HASS  \n",
       "47                            29700.0                            96400.0  HASS  \n",
       "48                            30700.0                           118000.0  HASS  \n",
       "49                            31000.0                            96400.0  HASS  \n",
       "50                                NaN                                NaN   NaN  "
      ]
     },
     "execution_count": 9,
     "metadata": {},
     "output_type": "execute_result"
    }
   ],
   "source": [
    "# Check the last 5 rows of the dataframe\n",
    "# Often junk rows appear at the bottom\n",
    "df.tail()"
   ]
  },
  {
   "cell_type": "code",
   "execution_count": 6,
   "id": "46447ac1-70f8-423f-b218-88604bd51c57",
   "metadata": {},
   "outputs": [
    {
     "data": {
      "text/plain": [
       "Undergraduate Major                  0\n",
       "Starting Median Salary               1\n",
       "Mid-Career Median Salary             1\n",
       "Mid-Career 10th Percentile Salary    1\n",
       "Mid-Career 90th Percentile Salary    1\n",
       "Group                                1\n",
       "dtype: int64"
      ]
     },
     "execution_count": 6,
     "metadata": {},
     "output_type": "execute_result"
    }
   ],
   "source": [
    "# .isna() returns True for missing values\n",
    "# .sum() gives us the total number of missing values in each column\n",
    "df.isna().sum()"
   ]
  },
  {
   "cell_type": "code",
   "execution_count": 10,
   "id": "c04f761a-ac99-440e-8bb4-625d739b6dae",
   "metadata": {},
   "outputs": [
    {
     "data": {
      "text/html": [
       "<div>\n",
       "<style scoped>\n",
       "    .dataframe tbody tr th:only-of-type {\n",
       "        vertical-align: middle;\n",
       "    }\n",
       "\n",
       "    .dataframe tbody tr th {\n",
       "        vertical-align: top;\n",
       "    }\n",
       "\n",
       "    .dataframe thead th {\n",
       "        text-align: right;\n",
       "    }\n",
       "</style>\n",
       "<table border=\"1\" class=\"dataframe\">\n",
       "  <thead>\n",
       "    <tr style=\"text-align: right;\">\n",
       "      <th></th>\n",
       "      <th>Undergraduate Major</th>\n",
       "      <th>Starting Median Salary</th>\n",
       "      <th>Mid-Career Median Salary</th>\n",
       "      <th>Mid-Career 10th Percentile Salary</th>\n",
       "      <th>Mid-Career 90th Percentile Salary</th>\n",
       "      <th>Group</th>\n",
       "    </tr>\n",
       "  </thead>\n",
       "  <tbody>\n",
       "    <tr>\n",
       "      <th>45</th>\n",
       "      <td>Political Science</td>\n",
       "      <td>40800.0</td>\n",
       "      <td>78200.0</td>\n",
       "      <td>41200.0</td>\n",
       "      <td>168000.0</td>\n",
       "      <td>HASS</td>\n",
       "    </tr>\n",
       "    <tr>\n",
       "      <th>46</th>\n",
       "      <td>Psychology</td>\n",
       "      <td>35900.0</td>\n",
       "      <td>60400.0</td>\n",
       "      <td>31600.0</td>\n",
       "      <td>127000.0</td>\n",
       "      <td>HASS</td>\n",
       "    </tr>\n",
       "    <tr>\n",
       "      <th>47</th>\n",
       "      <td>Religion</td>\n",
       "      <td>34100.0</td>\n",
       "      <td>52000.0</td>\n",
       "      <td>29700.0</td>\n",
       "      <td>96400.0</td>\n",
       "      <td>HASS</td>\n",
       "    </tr>\n",
       "    <tr>\n",
       "      <th>48</th>\n",
       "      <td>Sociology</td>\n",
       "      <td>36500.0</td>\n",
       "      <td>58200.0</td>\n",
       "      <td>30700.0</td>\n",
       "      <td>118000.0</td>\n",
       "      <td>HASS</td>\n",
       "    </tr>\n",
       "    <tr>\n",
       "      <th>49</th>\n",
       "      <td>Spanish</td>\n",
       "      <td>34000.0</td>\n",
       "      <td>53100.0</td>\n",
       "      <td>31000.0</td>\n",
       "      <td>96400.0</td>\n",
       "      <td>HASS</td>\n",
       "    </tr>\n",
       "  </tbody>\n",
       "</table>\n",
       "</div>"
      ],
      "text/plain": [
       "   Undergraduate Major  Starting Median Salary  Mid-Career Median Salary  \\\n",
       "45   Political Science                 40800.0                   78200.0   \n",
       "46          Psychology                 35900.0                   60400.0   \n",
       "47            Religion                 34100.0                   52000.0   \n",
       "48           Sociology                 36500.0                   58200.0   \n",
       "49             Spanish                 34000.0                   53100.0   \n",
       "\n",
       "    Mid-Career 10th Percentile Salary  Mid-Career 90th Percentile Salary Group  \n",
       "45                            41200.0                           168000.0  HASS  \n",
       "46                            31600.0                           127000.0  HASS  \n",
       "47                            29700.0                            96400.0  HASS  \n",
       "48                            30700.0                           118000.0  HASS  \n",
       "49                            31000.0                            96400.0  HASS  "
      ]
     },
     "execution_count": 10,
     "metadata": {},
     "output_type": "execute_result"
    }
   ],
   "source": [
    "# Drop rows with NaN values to remove junk data\n",
    "clean_df = df.dropna()\n",
    "\n",
    "# Verify the last 5 rows again to confirm the bad row was removed\n",
    "clean_df.tail()"
   ]
  },
  {
   "cell_type": "markdown",
   "id": "f633a556-3954-4055-8f58-2d189d26ad6a",
   "metadata": {},
   "source": [
    "## Optional"
   ]
  },
  {
   "cell_type": "code",
   "execution_count": 11,
   "id": "1d40f1b4-d6ea-4387-8cf2-6b9a36cb7355",
   "metadata": {},
   "outputs": [
    {
     "name": "stdout",
     "output_type": "stream",
     "text": [
      "<class 'pandas.core.frame.DataFrame'>\n",
      "Index: 50 entries, 0 to 49\n",
      "Data columns (total 6 columns):\n",
      " #   Column                             Non-Null Count  Dtype  \n",
      "---  ------                             --------------  -----  \n",
      " 0   Undergraduate Major                50 non-null     object \n",
      " 1   Starting Median Salary             50 non-null     float64\n",
      " 2   Mid-Career Median Salary           50 non-null     float64\n",
      " 3   Mid-Career 10th Percentile Salary  50 non-null     float64\n",
      " 4   Mid-Career 90th Percentile Salary  50 non-null     float64\n",
      " 5   Group                              50 non-null     object \n",
      "dtypes: float64(4), object(2)\n",
      "memory usage: 2.7+ KB\n"
     ]
    }
   ],
   "source": [
    "# .info() gives us a concise summary:\n",
    "# - number of entries\n",
    "# - column names\n",
    "# - non-null counts\n",
    "# - data types\n",
    "clean_df.info()"
   ]
  },
  {
   "cell_type": "code",
   "execution_count": 12,
   "id": "84b32b33-502b-4abd-ac8b-441c53f023fb",
   "metadata": {},
   "outputs": [
    {
     "data": {
      "text/html": [
       "<div>\n",
       "<style scoped>\n",
       "    .dataframe tbody tr th:only-of-type {\n",
       "        vertical-align: middle;\n",
       "    }\n",
       "\n",
       "    .dataframe tbody tr th {\n",
       "        vertical-align: top;\n",
       "    }\n",
       "\n",
       "    .dataframe thead th {\n",
       "        text-align: right;\n",
       "    }\n",
       "</style>\n",
       "<table border=\"1\" class=\"dataframe\">\n",
       "  <thead>\n",
       "    <tr style=\"text-align: right;\">\n",
       "      <th></th>\n",
       "      <th>Starting Median Salary</th>\n",
       "      <th>Mid-Career Median Salary</th>\n",
       "      <th>Mid-Career 10th Percentile Salary</th>\n",
       "      <th>Mid-Career 90th Percentile Salary</th>\n",
       "    </tr>\n",
       "  </thead>\n",
       "  <tbody>\n",
       "    <tr>\n",
       "      <th>count</th>\n",
       "      <td>50.000000</td>\n",
       "      <td>50.00000</td>\n",
       "      <td>50.000000</td>\n",
       "      <td>50.000000</td>\n",
       "    </tr>\n",
       "    <tr>\n",
       "      <th>mean</th>\n",
       "      <td>44310.000000</td>\n",
       "      <td>74786.00000</td>\n",
       "      <td>43408.000000</td>\n",
       "      <td>142766.000000</td>\n",
       "    </tr>\n",
       "    <tr>\n",
       "      <th>std</th>\n",
       "      <td>9360.866217</td>\n",
       "      <td>16088.40386</td>\n",
       "      <td>12000.779567</td>\n",
       "      <td>27851.249267</td>\n",
       "    </tr>\n",
       "    <tr>\n",
       "      <th>min</th>\n",
       "      <td>34000.000000</td>\n",
       "      <td>52000.00000</td>\n",
       "      <td>26700.000000</td>\n",
       "      <td>96400.000000</td>\n",
       "    </tr>\n",
       "    <tr>\n",
       "      <th>25%</th>\n",
       "      <td>37050.000000</td>\n",
       "      <td>60825.00000</td>\n",
       "      <td>34825.000000</td>\n",
       "      <td>124250.000000</td>\n",
       "    </tr>\n",
       "    <tr>\n",
       "      <th>50%</th>\n",
       "      <td>40850.000000</td>\n",
       "      <td>72000.00000</td>\n",
       "      <td>39400.000000</td>\n",
       "      <td>145500.000000</td>\n",
       "    </tr>\n",
       "    <tr>\n",
       "      <th>75%</th>\n",
       "      <td>49875.000000</td>\n",
       "      <td>88750.00000</td>\n",
       "      <td>49850.000000</td>\n",
       "      <td>161750.000000</td>\n",
       "    </tr>\n",
       "    <tr>\n",
       "      <th>max</th>\n",
       "      <td>74300.000000</td>\n",
       "      <td>107000.00000</td>\n",
       "      <td>71900.000000</td>\n",
       "      <td>210000.000000</td>\n",
       "    </tr>\n",
       "  </tbody>\n",
       "</table>\n",
       "</div>"
      ],
      "text/plain": [
       "       Starting Median Salary  Mid-Career Median Salary  \\\n",
       "count               50.000000                  50.00000   \n",
       "mean             44310.000000               74786.00000   \n",
       "std               9360.866217               16088.40386   \n",
       "min              34000.000000               52000.00000   \n",
       "25%              37050.000000               60825.00000   \n",
       "50%              40850.000000               72000.00000   \n",
       "75%              49875.000000               88750.00000   \n",
       "max              74300.000000              107000.00000   \n",
       "\n",
       "       Mid-Career 10th Percentile Salary  Mid-Career 90th Percentile Salary  \n",
       "count                          50.000000                          50.000000  \n",
       "mean                        43408.000000                      142766.000000  \n",
       "std                         12000.779567                       27851.249267  \n",
       "min                         26700.000000                       96400.000000  \n",
       "25%                         34825.000000                      124250.000000  \n",
       "50%                         39400.000000                      145500.000000  \n",
       "75%                         49850.000000                      161750.000000  \n",
       "max                         71900.000000                      210000.000000  "
      ]
     },
     "execution_count": 12,
     "metadata": {},
     "output_type": "execute_result"
    }
   ],
   "source": [
    "# .describe() provides summary statistics of numerical columns\n",
    "clean_df.describe()"
   ]
  },
  {
   "cell_type": "markdown",
   "id": "c0d5acfd-87b0-46d8-8006-a54d81831551",
   "metadata": {},
   "source": [
    "## Find College Major with Highest Starting Salaries"
   ]
  },
  {
   "cell_type": "code",
   "execution_count": 15,
   "id": "ac98bf4d-cdba-4cf9-aa4f-39a8c18bb36e",
   "metadata": {},
   "outputs": [
    {
     "data": {
      "text/plain": [
       "74300.0"
      ]
     },
     "execution_count": 15,
     "metadata": {},
     "output_type": "execute_result"
    }
   ],
   "source": [
    "# Access the 'Starting Median Salary' column\n",
    "# This will return a pandas Series containing all starting salaries\n",
    "clean_df['Starting Median Salary']\n",
    "# Find the maximum value in 'Starting Median Salary'\n",
    "clean_df['Starting Median Salary'].max()"
   ]
  },
  {
   "cell_type": "code",
   "execution_count": 16,
   "id": "696da852-aa88-47ec-8eea-3dff9e76a65b",
   "metadata": {},
   "outputs": [
    {
     "data": {
      "text/plain": [
       "43"
      ]
     },
     "execution_count": 16,
     "metadata": {},
     "output_type": "execute_result"
    }
   ],
   "source": [
    "# Get the index of the row with the maximum starting salary\n",
    "clean_df['Starting Median Salary'].idxmax()"
   ]
  },
  {
   "cell_type": "code",
   "execution_count": 17,
   "id": "840ace25-f6c7-4ec6-8ee5-039416b8efd6",
   "metadata": {},
   "outputs": [
    {
     "data": {
      "text/plain": [
       "'Physician Assistant'"
      ]
     },
     "execution_count": 17,
     "metadata": {},
     "output_type": "execute_result"
    }
   ],
   "source": [
    "# Use .loc to retrieve the major at index 43\n",
    "clean_df['Undergraduate Major'].loc[43]"
   ]
  },
  {
   "cell_type": "code",
   "execution_count": 18,
   "id": "1a66811a-e16a-41f3-8ffc-20f8e57a9aa1",
   "metadata": {},
   "outputs": [
    {
     "data": {
      "text/plain": [
       "Undergraduate Major                  Physician Assistant\n",
       "Starting Median Salary                           74300.0\n",
       "Mid-Career Median Salary                         91700.0\n",
       "Mid-Career 10th Percentile Salary                66400.0\n",
       "Mid-Career 90th Percentile Salary               124000.0\n",
       "Group                                               STEM\n",
       "Name: 43, dtype: object"
      ]
     },
     "execution_count": 18,
     "metadata": {},
     "output_type": "execute_result"
    }
   ],
   "source": [
    "# Retrieve the entire row for index 43\n",
    "clean_df.loc[43]\n"
   ]
  },
  {
   "cell_type": "markdown",
   "id": "55da10a1-7f43-4e3c-9a6d-caf3a5b1578e",
   "metadata": {},
   "source": [
    "### College Major with Highest Mid-Career Salary"
   ]
  },
  {
   "cell_type": "code",
   "execution_count": 19,
   "id": "2cd76bb8-0b23-4505-9224-d5ed0fad983e",
   "metadata": {},
   "outputs": [
    {
     "data": {
      "text/plain": [
       "('Chemical Engineering', 107000.0)"
      ]
     },
     "execution_count": 19,
     "metadata": {},
     "output_type": "execute_result"
    }
   ],
   "source": [
    "# Find the index of the max mid-career salary\n",
    "highest_mid_idx = clean_df['Mid-Career Median Salary'].idxmax()\n",
    "\n",
    "# Retrieve the major and salary\n",
    "highest_mid_major = clean_df['Undergraduate Major'].loc[highest_mid_idx]\n",
    "highest_mid_salary = clean_df['Mid-Career Median Salary'].loc[highest_mid_idx]\n",
    "\n",
    "highest_mid_major, highest_mid_salary"
   ]
  },
  {
   "cell_type": "markdown",
   "id": "3947d897-f861-4889-9eca-aa6c069c4b32",
   "metadata": {},
   "source": [
    "### College Major with Lowest Starting Salary"
   ]
  },
  {
   "cell_type": "code",
   "execution_count": 20,
   "id": "31ec1b1a-92c6-4b94-995c-333ec95f0abc",
   "metadata": {},
   "outputs": [
    {
     "data": {
      "text/plain": [
       "('Spanish', 34000.0)"
      ]
     },
     "execution_count": 20,
     "metadata": {},
     "output_type": "execute_result"
    }
   ],
   "source": [
    "# Find the index of the min starting salary\n",
    "lowest_start_idx = clean_df['Starting Median Salary'].idxmin()\n",
    "\n",
    "# Retrieve the major and salary\n",
    "lowest_start_major = clean_df['Undergraduate Major'].loc[lowest_start_idx]\n",
    "lowest_start_salary = clean_df['Starting Median Salary'].loc[lowest_start_idx]\n",
    "\n",
    "lowest_start_major, lowest_start_salary"
   ]
  },
  {
   "cell_type": "markdown",
   "id": "94d61f83-c81f-47c1-927c-4c110a20bab9",
   "metadata": {},
   "source": [
    "### College Major with Lowest Mid-Career Salary"
   ]
  },
  {
   "cell_type": "code",
   "execution_count": 22,
   "id": "394af1ee-7060-48da-a760-b13eac8e2c9e",
   "metadata": {},
   "outputs": [
    {
     "data": {
      "text/plain": [
       "('Education', 52000.0)"
      ]
     },
     "execution_count": 22,
     "metadata": {},
     "output_type": "execute_result"
    }
   ],
   "source": [
    "# Find the index of the min mid-career salary\n",
    "lowest_mid_idx = clean_df['Mid-Career Median Salary'].idxmin()\n",
    "\n",
    "# Retrieve the major and salary\n",
    "lowest_mid_major = clean_df['Undergraduate Major'].loc[lowest_mid_idx]\n",
    "lowest_mid_salary = clean_df['Mid-Career Median Salary'].loc[lowest_mid_idx]\n",
    "\n",
    "lowest_mid_major, lowest_mid_salary"
   ]
  },
  {
   "cell_type": "markdown",
   "id": "6d286bf8-f52d-498a-a12a-549ac1b6c98d",
   "metadata": {},
   "source": [
    "## Majors with the Most Potential vs Lowest Risk"
   ]
  },
  {
   "cell_type": "code",
   "execution_count": 23,
   "id": "afc084f7-2e54-4bbd-8c6e-72dde0394ac1",
   "metadata": {},
   "outputs": [
    {
     "data": {
      "text/html": [
       "<div>\n",
       "<style scoped>\n",
       "    .dataframe tbody tr th:only-of-type {\n",
       "        vertical-align: middle;\n",
       "    }\n",
       "\n",
       "    .dataframe tbody tr th {\n",
       "        vertical-align: top;\n",
       "    }\n",
       "\n",
       "    .dataframe thead th {\n",
       "        text-align: right;\n",
       "    }\n",
       "</style>\n",
       "<table border=\"1\" class=\"dataframe\">\n",
       "  <thead>\n",
       "    <tr style=\"text-align: right;\">\n",
       "      <th></th>\n",
       "      <th>Undergraduate Major</th>\n",
       "      <th>Spread</th>\n",
       "      <th>Starting Median Salary</th>\n",
       "      <th>Mid-Career Median Salary</th>\n",
       "      <th>Mid-Career 10th Percentile Salary</th>\n",
       "      <th>Mid-Career 90th Percentile Salary</th>\n",
       "      <th>Group</th>\n",
       "    </tr>\n",
       "  </thead>\n",
       "  <tbody>\n",
       "    <tr>\n",
       "      <th>0</th>\n",
       "      <td>Accounting</td>\n",
       "      <td>109800.0</td>\n",
       "      <td>46000.0</td>\n",
       "      <td>77100.0</td>\n",
       "      <td>42200.0</td>\n",
       "      <td>152000.0</td>\n",
       "      <td>Business</td>\n",
       "    </tr>\n",
       "    <tr>\n",
       "      <th>1</th>\n",
       "      <td>Aerospace Engineering</td>\n",
       "      <td>96700.0</td>\n",
       "      <td>57700.0</td>\n",
       "      <td>101000.0</td>\n",
       "      <td>64300.0</td>\n",
       "      <td>161000.0</td>\n",
       "      <td>STEM</td>\n",
       "    </tr>\n",
       "    <tr>\n",
       "      <th>2</th>\n",
       "      <td>Agriculture</td>\n",
       "      <td>113700.0</td>\n",
       "      <td>42600.0</td>\n",
       "      <td>71900.0</td>\n",
       "      <td>36300.0</td>\n",
       "      <td>150000.0</td>\n",
       "      <td>Business</td>\n",
       "    </tr>\n",
       "    <tr>\n",
       "      <th>3</th>\n",
       "      <td>Anthropology</td>\n",
       "      <td>104200.0</td>\n",
       "      <td>36800.0</td>\n",
       "      <td>61500.0</td>\n",
       "      <td>33800.0</td>\n",
       "      <td>138000.0</td>\n",
       "      <td>HASS</td>\n",
       "    </tr>\n",
       "    <tr>\n",
       "      <th>4</th>\n",
       "      <td>Architecture</td>\n",
       "      <td>85400.0</td>\n",
       "      <td>41600.0</td>\n",
       "      <td>76800.0</td>\n",
       "      <td>50600.0</td>\n",
       "      <td>136000.0</td>\n",
       "      <td>Business</td>\n",
       "    </tr>\n",
       "  </tbody>\n",
       "</table>\n",
       "</div>"
      ],
      "text/plain": [
       "     Undergraduate Major    Spread  Starting Median Salary  \\\n",
       "0             Accounting  109800.0                 46000.0   \n",
       "1  Aerospace Engineering   96700.0                 57700.0   \n",
       "2            Agriculture  113700.0                 42600.0   \n",
       "3           Anthropology  104200.0                 36800.0   \n",
       "4           Architecture   85400.0                 41600.0   \n",
       "\n",
       "   Mid-Career Median Salary  Mid-Career 10th Percentile Salary  \\\n",
       "0                   77100.0                            42200.0   \n",
       "1                  101000.0                            64300.0   \n",
       "2                   71900.0                            36300.0   \n",
       "3                   61500.0                            33800.0   \n",
       "4                   76800.0                            50600.0   \n",
       "\n",
       "   Mid-Career 90th Percentile Salary     Group  \n",
       "0                           152000.0  Business  \n",
       "1                           161000.0      STEM  \n",
       "2                           150000.0  Business  \n",
       "3                           138000.0      HASS  \n",
       "4                           136000.0  Business  "
      ]
     },
     "execution_count": 23,
     "metadata": {},
     "output_type": "execute_result"
    }
   ],
   "source": [
    "# Calculate the difference between 90th percentile and 10th percentile salaries\n",
    "spread_col = clean_df['Mid-Career 90th Percentile Salary'] - clean_df['Mid-Career 10th Percentile Salary']\n",
    "\n",
    "# Insert 'Spread' column at position 1 (second column in the DataFrame)\n",
    "clean_df.insert(1, 'Spread', spread_col)\n",
    "\n",
    "# Display first 5 rows to confirm insertion\n",
    "clean_df.head()"
   ]
  },
  {
   "cell_type": "code",
   "execution_count": 24,
   "id": "7b120031-5085-44e2-bfb8-a74a43d3d1c2",
   "metadata": {},
   "outputs": [
    {
     "data": {
      "text/html": [
       "<div>\n",
       "<style scoped>\n",
       "    .dataframe tbody tr th:only-of-type {\n",
       "        vertical-align: middle;\n",
       "    }\n",
       "\n",
       "    .dataframe tbody tr th {\n",
       "        vertical-align: top;\n",
       "    }\n",
       "\n",
       "    .dataframe thead th {\n",
       "        text-align: right;\n",
       "    }\n",
       "</style>\n",
       "<table border=\"1\" class=\"dataframe\">\n",
       "  <thead>\n",
       "    <tr style=\"text-align: right;\">\n",
       "      <th></th>\n",
       "      <th>Undergraduate Major</th>\n",
       "      <th>Spread</th>\n",
       "    </tr>\n",
       "  </thead>\n",
       "  <tbody>\n",
       "    <tr>\n",
       "      <th>40</th>\n",
       "      <td>Nursing</td>\n",
       "      <td>50700.0</td>\n",
       "    </tr>\n",
       "    <tr>\n",
       "      <th>43</th>\n",
       "      <td>Physician Assistant</td>\n",
       "      <td>57600.0</td>\n",
       "    </tr>\n",
       "    <tr>\n",
       "      <th>41</th>\n",
       "      <td>Nutrition</td>\n",
       "      <td>65300.0</td>\n",
       "    </tr>\n",
       "    <tr>\n",
       "      <th>49</th>\n",
       "      <td>Spanish</td>\n",
       "      <td>65400.0</td>\n",
       "    </tr>\n",
       "    <tr>\n",
       "      <th>27</th>\n",
       "      <td>Health Care Administration</td>\n",
       "      <td>66400.0</td>\n",
       "    </tr>\n",
       "  </tbody>\n",
       "</table>\n",
       "</div>"
      ],
      "text/plain": [
       "           Undergraduate Major   Spread\n",
       "40                     Nursing  50700.0\n",
       "43         Physician Assistant  57600.0\n",
       "41                   Nutrition  65300.0\n",
       "49                     Spanish  65400.0\n",
       "27  Health Care Administration  66400.0"
      ]
     },
     "execution_count": 24,
     "metadata": {},
     "output_type": "execute_result"
    }
   ],
   "source": [
    "# Sort the DataFrame by 'Spread' in ascending order (default)\n",
    "# This means majors with the smallest spread come first\n",
    "low_risk = clean_df.sort_values('Spread')\n",
    "\n",
    "# Show only 'Undergraduate Major' and 'Spread' for clarity\n",
    "low_risk[['Undergraduate Major', 'Spread']].head()"
   ]
  },
  {
   "cell_type": "markdown",
   "id": "6edbdf4d-db85-4993-9d9d-71eee9a87eee",
   "metadata": {},
   "source": [
    "### Top 5 Majors with Highest 90th Percentile Salaries (Highest Potential)"
   ]
  },
  {
   "cell_type": "code",
   "execution_count": 25,
   "id": "bf259b38-e8d8-4096-9d54-4a2d705466b1",
   "metadata": {},
   "outputs": [
    {
     "data": {
      "text/html": [
       "<div>\n",
       "<style scoped>\n",
       "    .dataframe tbody tr th:only-of-type {\n",
       "        vertical-align: middle;\n",
       "    }\n",
       "\n",
       "    .dataframe tbody tr th {\n",
       "        vertical-align: top;\n",
       "    }\n",
       "\n",
       "    .dataframe thead th {\n",
       "        text-align: right;\n",
       "    }\n",
       "</style>\n",
       "<table border=\"1\" class=\"dataframe\">\n",
       "  <thead>\n",
       "    <tr style=\"text-align: right;\">\n",
       "      <th></th>\n",
       "      <th>Undergraduate Major</th>\n",
       "      <th>Mid-Career 90th Percentile Salary</th>\n",
       "    </tr>\n",
       "  </thead>\n",
       "  <tbody>\n",
       "    <tr>\n",
       "      <th>17</th>\n",
       "      <td>Economics</td>\n",
       "      <td>210000.0</td>\n",
       "    </tr>\n",
       "    <tr>\n",
       "      <th>22</th>\n",
       "      <td>Finance</td>\n",
       "      <td>195000.0</td>\n",
       "    </tr>\n",
       "    <tr>\n",
       "      <th>8</th>\n",
       "      <td>Chemical Engineering</td>\n",
       "      <td>194000.0</td>\n",
       "    </tr>\n",
       "    <tr>\n",
       "      <th>37</th>\n",
       "      <td>Math</td>\n",
       "      <td>183000.0</td>\n",
       "    </tr>\n",
       "    <tr>\n",
       "      <th>44</th>\n",
       "      <td>Physics</td>\n",
       "      <td>178000.0</td>\n",
       "    </tr>\n",
       "  </tbody>\n",
       "</table>\n",
       "</div>"
      ],
      "text/plain": [
       "     Undergraduate Major  Mid-Career 90th Percentile Salary\n",
       "17             Economics                           210000.0\n",
       "22               Finance                           195000.0\n",
       "8   Chemical Engineering                           194000.0\n",
       "37                  Math                           183000.0\n",
       "44               Physics                           178000.0"
      ]
     },
     "execution_count": 25,
     "metadata": {},
     "output_type": "execute_result"
    }
   ],
   "source": [
    "# Sort by 'Mid-Career 90th Percentile Salary' in descending order\n",
    "# to get the highest values at the top\n",
    "highest_potential = clean_df.sort_values('Mid-Career 90th Percentile Salary', ascending=False)\n",
    "\n",
    "# Display top 5 majors with their 90th percentile salaries\n",
    "highest_potential[['Undergraduate Major', 'Mid-Career 90th Percentile Salary']].head()"
   ]
  },
  {
   "cell_type": "markdown",
   "id": "5b1fc5ae-c06c-4290-964e-33794c3dd1ba",
   "metadata": {},
   "source": [
    "### Majors with the Greatest Spread"
   ]
  },
  {
   "cell_type": "code",
   "execution_count": 26,
   "id": "683aaffc-2828-47d5-9575-74280a439e2e",
   "metadata": {},
   "outputs": [
    {
     "data": {
      "text/html": [
       "<div>\n",
       "<style scoped>\n",
       "    .dataframe tbody tr th:only-of-type {\n",
       "        vertical-align: middle;\n",
       "    }\n",
       "\n",
       "    .dataframe tbody tr th {\n",
       "        vertical-align: top;\n",
       "    }\n",
       "\n",
       "    .dataframe thead th {\n",
       "        text-align: right;\n",
       "    }\n",
       "</style>\n",
       "<table border=\"1\" class=\"dataframe\">\n",
       "  <thead>\n",
       "    <tr style=\"text-align: right;\">\n",
       "      <th></th>\n",
       "      <th>Undergraduate Major</th>\n",
       "      <th>Spread</th>\n",
       "    </tr>\n",
       "  </thead>\n",
       "  <tbody>\n",
       "    <tr>\n",
       "      <th>17</th>\n",
       "      <td>Economics</td>\n",
       "      <td>159400.0</td>\n",
       "    </tr>\n",
       "    <tr>\n",
       "      <th>22</th>\n",
       "      <td>Finance</td>\n",
       "      <td>147800.0</td>\n",
       "    </tr>\n",
       "    <tr>\n",
       "      <th>37</th>\n",
       "      <td>Math</td>\n",
       "      <td>137800.0</td>\n",
       "    </tr>\n",
       "    <tr>\n",
       "      <th>36</th>\n",
       "      <td>Marketing</td>\n",
       "      <td>132900.0</td>\n",
       "    </tr>\n",
       "    <tr>\n",
       "      <th>42</th>\n",
       "      <td>Philosophy</td>\n",
       "      <td>132500.0</td>\n",
       "    </tr>\n",
       "  </tbody>\n",
       "</table>\n",
       "</div>"
      ],
      "text/plain": [
       "   Undergraduate Major    Spread\n",
       "17           Economics  159400.0\n",
       "22             Finance  147800.0\n",
       "37                Math  137800.0\n",
       "36           Marketing  132900.0\n",
       "42          Philosophy  132500.0"
      ]
     },
     "execution_count": 26,
     "metadata": {},
     "output_type": "execute_result"
    }
   ],
   "source": [
    "# Sort by 'Spread' in descending order to see the largest differences\n",
    "greatest_spread = clean_df.sort_values('Spread', ascending=False)\n",
    "\n",
    "# Display top 5 majors with their spread\n",
    "greatest_spread[['Undergraduate Major', 'Spread']].head()"
   ]
  },
  {
   "cell_type": "markdown",
   "id": "a328fd89-fe10-49e3-82e8-41250233caa9",
   "metadata": {},
   "source": [
    "## Grouping and Pivoting Data"
   ]
  },
  {
   "cell_type": "code",
   "execution_count": 29,
   "id": "376a0ef7-0800-49ec-80f2-f2838a558b51",
   "metadata": {},
   "outputs": [
    {
     "data": {
      "text/html": [
       "<div>\n",
       "<style scoped>\n",
       "    .dataframe tbody tr th:only-of-type {\n",
       "        vertical-align: middle;\n",
       "    }\n",
       "\n",
       "    .dataframe tbody tr th {\n",
       "        vertical-align: top;\n",
       "    }\n",
       "\n",
       "    .dataframe thead th {\n",
       "        text-align: right;\n",
       "    }\n",
       "</style>\n",
       "<table border=\"1\" class=\"dataframe\">\n",
       "  <thead>\n",
       "    <tr style=\"text-align: right;\">\n",
       "      <th></th>\n",
       "      <th>Undergraduate Major</th>\n",
       "      <th>Spread</th>\n",
       "      <th>Starting Median Salary</th>\n",
       "      <th>Mid-Career Median Salary</th>\n",
       "      <th>Mid-Career 10th Percentile Salary</th>\n",
       "      <th>Mid-Career 90th Percentile Salary</th>\n",
       "    </tr>\n",
       "    <tr>\n",
       "      <th>Group</th>\n",
       "      <th></th>\n",
       "      <th></th>\n",
       "      <th></th>\n",
       "      <th></th>\n",
       "      <th></th>\n",
       "      <th></th>\n",
       "    </tr>\n",
       "  </thead>\n",
       "  <tbody>\n",
       "    <tr>\n",
       "      <th>Business</th>\n",
       "      <td>12</td>\n",
       "      <td>12</td>\n",
       "      <td>12</td>\n",
       "      <td>12</td>\n",
       "      <td>12</td>\n",
       "      <td>12</td>\n",
       "    </tr>\n",
       "    <tr>\n",
       "      <th>HASS</th>\n",
       "      <td>22</td>\n",
       "      <td>22</td>\n",
       "      <td>22</td>\n",
       "      <td>22</td>\n",
       "      <td>22</td>\n",
       "      <td>22</td>\n",
       "    </tr>\n",
       "    <tr>\n",
       "      <th>STEM</th>\n",
       "      <td>16</td>\n",
       "      <td>16</td>\n",
       "      <td>16</td>\n",
       "      <td>16</td>\n",
       "      <td>16</td>\n",
       "      <td>16</td>\n",
       "    </tr>\n",
       "  </tbody>\n",
       "</table>\n",
       "</div>"
      ],
      "text/plain": [
       "          Undergraduate Major  Spread  Starting Median Salary  \\\n",
       "Group                                                           \n",
       "Business                   12      12                      12   \n",
       "HASS                       22      22                      22   \n",
       "STEM                       16      16                      16   \n",
       "\n",
       "          Mid-Career Median Salary  Mid-Career 10th Percentile Salary  \\\n",
       "Group                                                                   \n",
       "Business                        12                                 12   \n",
       "HASS                            22                                 22   \n",
       "STEM                            16                                 16   \n",
       "\n",
       "          Mid-Career 90th Percentile Salary  \n",
       "Group                                        \n",
       "Business                                 12  \n",
       "HASS                                     22  \n",
       "STEM                                     16  "
      ]
     },
     "execution_count": 29,
     "metadata": {},
     "output_type": "execute_result"
    }
   ],
   "source": [
    "# Group the DataFrame by 'Group' column and count the entries in each group\n",
    "# This shows how many majors belong to STEM, HASS, and Business categories\n",
    "clean_df.groupby('Group').count()"
   ]
  },
  {
   "cell_type": "code",
   "execution_count": 32,
   "id": "73478163-6a9d-4f68-878f-3589da2d2038",
   "metadata": {},
   "outputs": [
    {
     "data": {
      "text/html": [
       "<div>\n",
       "<style scoped>\n",
       "    .dataframe tbody tr th:only-of-type {\n",
       "        vertical-align: middle;\n",
       "    }\n",
       "\n",
       "    .dataframe tbody tr th {\n",
       "        vertical-align: top;\n",
       "    }\n",
       "\n",
       "    .dataframe thead th {\n",
       "        text-align: right;\n",
       "    }\n",
       "</style>\n",
       "<table border=\"1\" class=\"dataframe\">\n",
       "  <thead>\n",
       "    <tr style=\"text-align: right;\">\n",
       "      <th></th>\n",
       "      <th>Spread</th>\n",
       "      <th>Starting Median Salary</th>\n",
       "      <th>Mid-Career Median Salary</th>\n",
       "      <th>Mid-Career 10th Percentile Salary</th>\n",
       "      <th>Mid-Career 90th Percentile Salary</th>\n",
       "    </tr>\n",
       "    <tr>\n",
       "      <th>Group</th>\n",
       "      <th></th>\n",
       "      <th></th>\n",
       "      <th></th>\n",
       "      <th></th>\n",
       "      <th></th>\n",
       "    </tr>\n",
       "  </thead>\n",
       "  <tbody>\n",
       "    <tr>\n",
       "      <th>Business</th>\n",
       "      <td>103,958.33</td>\n",
       "      <td>44,633.33</td>\n",
       "      <td>75,083.33</td>\n",
       "      <td>43,566.67</td>\n",
       "      <td>147,525.00</td>\n",
       "    </tr>\n",
       "    <tr>\n",
       "      <th>HASS</th>\n",
       "      <td>95,218.18</td>\n",
       "      <td>37,186.36</td>\n",
       "      <td>62,968.18</td>\n",
       "      <td>34,145.45</td>\n",
       "      <td>129,363.64</td>\n",
       "    </tr>\n",
       "    <tr>\n",
       "      <th>STEM</th>\n",
       "      <td>101,600.00</td>\n",
       "      <td>53,862.50</td>\n",
       "      <td>90,812.50</td>\n",
       "      <td>56,025.00</td>\n",
       "      <td>157,625.00</td>\n",
       "    </tr>\n",
       "  </tbody>\n",
       "</table>\n",
       "</div>"
      ],
      "text/plain": [
       "             Spread  Starting Median Salary  Mid-Career Median Salary  \\\n",
       "Group                                                                   \n",
       "Business 103,958.33               44,633.33                 75,083.33   \n",
       "HASS      95,218.18               37,186.36                 62,968.18   \n",
       "STEM     101,600.00               53,862.50                 90,812.50   \n",
       "\n",
       "          Mid-Career 10th Percentile Salary  Mid-Career 90th Percentile Salary  \n",
       "Group                                                                           \n",
       "Business                          43,566.67                         147,525.00  \n",
       "HASS                              34,145.45                         129,363.64  \n",
       "STEM                              56,025.00                         157,625.00  "
      ]
     },
     "execution_count": 32,
     "metadata": {},
     "output_type": "execute_result"
    }
   ],
   "source": [
    "# Group by 'Group' and calculate the mean for each salary column\n",
    "# This gives us the average salaries for each category of degrees\n",
    "#clean_df.groupby('Group').mean()\n",
    "\n",
    "# Format floating point numbers with commas and 2 decimal places\n",
    "pd.options.display.float_format = '{:,.2f}'.format\n",
    "\n",
    "# Re-run the group mean calculation with nicer formatting\n",
    "clean_df.groupby('Group').mean(numeric_only=True)"
   ]
  },
  {
   "cell_type": "code",
   "execution_count": 42,
   "id": "d3e82334-a7c1-4a17-a01b-0e8efca8089f",
   "metadata": {},
   "outputs": [
    {
     "data": {
      "text/html": [
       "<div>\n",
       "<style scoped>\n",
       "    .dataframe tbody tr th:only-of-type {\n",
       "        vertical-align: middle;\n",
       "    }\n",
       "\n",
       "    .dataframe tbody tr th {\n",
       "        vertical-align: top;\n",
       "    }\n",
       "\n",
       "    .dataframe thead th {\n",
       "        text-align: right;\n",
       "    }\n",
       "</style>\n",
       "<table border=\"1\" class=\"dataframe\">\n",
       "  <thead>\n",
       "    <tr style=\"text-align: right;\">\n",
       "      <th></th>\n",
       "      <th>Starting Median Salary</th>\n",
       "      <th>Mid-Career Median Salary</th>\n",
       "      <th>Mid-Career 10th Percentile Salary</th>\n",
       "      <th>Mid-Career 90th Percentile Salary</th>\n",
       "    </tr>\n",
       "    <tr>\n",
       "      <th>Group</th>\n",
       "      <th></th>\n",
       "      <th></th>\n",
       "      <th></th>\n",
       "      <th></th>\n",
       "    </tr>\n",
       "  </thead>\n",
       "  <tbody>\n",
       "    <tr>\n",
       "      <th>Business</th>\n",
       "      <td>44,633.33</td>\n",
       "      <td>75,083.33</td>\n",
       "      <td>43,566.67</td>\n",
       "      <td>147,525.00</td>\n",
       "    </tr>\n",
       "    <tr>\n",
       "      <th>HASS</th>\n",
       "      <td>37,186.36</td>\n",
       "      <td>62,968.18</td>\n",
       "      <td>34,145.45</td>\n",
       "      <td>129,363.64</td>\n",
       "    </tr>\n",
       "    <tr>\n",
       "      <th>STEM</th>\n",
       "      <td>53,862.50</td>\n",
       "      <td>90,812.50</td>\n",
       "      <td>56,025.00</td>\n",
       "      <td>157,625.00</td>\n",
       "    </tr>\n",
       "  </tbody>\n",
       "</table>\n",
       "</div>"
      ],
      "text/plain": [
       "          Starting Median Salary  Mid-Career Median Salary  \\\n",
       "Group                                                        \n",
       "Business               44,633.33                 75,083.33   \n",
       "HASS                   37,186.36                 62,968.18   \n",
       "STEM                   53,862.50                 90,812.50   \n",
       "\n",
       "          Mid-Career 10th Percentile Salary  Mid-Career 90th Percentile Salary  \n",
       "Group                                                                           \n",
       "Business                          43,566.67                         147,525.00  \n",
       "HASS                              34,145.45                         129,363.64  \n",
       "STEM                              56,025.00                         157,625.00  "
      ]
     },
     "execution_count": 42,
     "metadata": {},
     "output_type": "execute_result"
    }
   ],
   "source": [
    "# Define the columns we want to average\n",
    "salary_cols = [\n",
    "    'Starting Median Salary',\n",
    "    'Mid-Career Median Salary',\n",
    "    'Mid-Career 10th Percentile Salary',\n",
    "    'Mid-Career 90th Percentile Salary'  # remove 25th & 75th percentile\n",
    "]\n",
    "# Group by 'Group' and compute means only for these columns\n",
    "clean_df.groupby('Group')[salary_cols].mean()"
   ]
  },
  {
   "cell_type": "code",
   "execution_count": 43,
   "id": "4b09bec0-5f35-480b-aac3-f744568824f9",
   "metadata": {},
   "outputs": [],
   "source": [
    "# Strip spaces from column names\n",
    "clean_df.columns = clean_df.columns.str.strip()"
   ]
  },
  {
   "cell_type": "code",
   "execution_count": 44,
   "id": "398260bd-bfcd-4aa8-a126-2abe39f40b92",
   "metadata": {},
   "outputs": [
    {
     "data": {
      "text/html": [
       "<div>\n",
       "<style scoped>\n",
       "    .dataframe tbody tr th:only-of-type {\n",
       "        vertical-align: middle;\n",
       "    }\n",
       "\n",
       "    .dataframe tbody tr th {\n",
       "        vertical-align: top;\n",
       "    }\n",
       "\n",
       "    .dataframe thead th {\n",
       "        text-align: right;\n",
       "    }\n",
       "</style>\n",
       "<table border=\"1\" class=\"dataframe\">\n",
       "  <thead>\n",
       "    <tr style=\"text-align: right;\">\n",
       "      <th></th>\n",
       "      <th>Starting Median Salary</th>\n",
       "      <th>Mid-Career Median Salary</th>\n",
       "      <th>Mid-Career 10th Percentile Salary</th>\n",
       "      <th>Mid-Career 90th Percentile Salary</th>\n",
       "    </tr>\n",
       "    <tr>\n",
       "      <th>Group</th>\n",
       "      <th></th>\n",
       "      <th></th>\n",
       "      <th></th>\n",
       "      <th></th>\n",
       "    </tr>\n",
       "  </thead>\n",
       "  <tbody>\n",
       "    <tr>\n",
       "      <th>Business</th>\n",
       "      <td>44,633.33</td>\n",
       "      <td>75,083.33</td>\n",
       "      <td>43,566.67</td>\n",
       "      <td>147,525.00</td>\n",
       "    </tr>\n",
       "    <tr>\n",
       "      <th>HASS</th>\n",
       "      <td>37,186.36</td>\n",
       "      <td>62,968.18</td>\n",
       "      <td>34,145.45</td>\n",
       "      <td>129,363.64</td>\n",
       "    </tr>\n",
       "    <tr>\n",
       "      <th>STEM</th>\n",
       "      <td>53,862.50</td>\n",
       "      <td>90,812.50</td>\n",
       "      <td>56,025.00</td>\n",
       "      <td>157,625.00</td>\n",
       "    </tr>\n",
       "  </tbody>\n",
       "</table>\n",
       "</div>"
      ],
      "text/plain": [
       "          Starting Median Salary  Mid-Career Median Salary  \\\n",
       "Group                                                        \n",
       "Business               44,633.33                 75,083.33   \n",
       "HASS                   37,186.36                 62,968.18   \n",
       "STEM                   53,862.50                 90,812.50   \n",
       "\n",
       "          Mid-Career 10th Percentile Salary  Mid-Career 90th Percentile Salary  \n",
       "Group                                                                           \n",
       "Business                          43,566.67                         147,525.00  \n",
       "HASS                              34,145.45                         129,363.64  \n",
       "STEM                              56,025.00                         157,625.00  "
      ]
     },
     "execution_count": 44,
     "metadata": {},
     "output_type": "execute_result"
    }
   ],
   "source": [
    "pd.options.display.float_format = '{:,.2f}'.format\n",
    "clean_df.groupby('Group')[salary_cols].mean()"
   ]
  },
  {
   "cell_type": "code",
   "execution_count": null,
   "id": "2df17f5e-8537-4d3c-86a8-915805478c20",
   "metadata": {},
   "outputs": [],
   "source": []
  }
 ],
 "metadata": {
  "kernelspec": {
   "display_name": "Python 3 (ipykernel)",
   "language": "python",
   "name": "python3"
  },
  "language_info": {
   "codemirror_mode": {
    "name": "ipython",
    "version": 3
   },
   "file_extension": ".py",
   "mimetype": "text/x-python",
   "name": "python",
   "nbconvert_exporter": "python",
   "pygments_lexer": "ipython3",
   "version": "3.12.7"
  }
 },
 "nbformat": 4,
 "nbformat_minor": 5
}
